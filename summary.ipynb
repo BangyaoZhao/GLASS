{
 "cells": [
  {
   "cell_type": "code",
   "execution_count": 1,
   "metadata": {},
   "outputs": [],
   "source": [
    "# public packages\n",
    "import pandas as pd\n",
    "import json, sys\n",
    "import numpy as np"
   ]
  },
  {
   "cell_type": "code",
   "execution_count": 2,
   "metadata": {},
   "outputs": [],
   "source": [
    "# read results\n",
    "df = None\n",
    "for subject_id in range(1, 9):\n",
    "    with open(f'output/subject_{subject_id}.json', 'r') as f:\n",
    "        result = json.load(f)\n",
    "    # append\n",
    "    new_rows = []\n",
    "    for (repetition, acc) in enumerate(result['accuracy']):\n",
    "        new_row = {\n",
    "            'subject': subject_id,\n",
    "            'repetition': repetition+1,\n",
    "            'acc': acc,\n",
    "            'Method': 'GLASS'}\n",
    "        new_rows.append(new_row)\n",
    "    df = pd.concat([df, pd.DataFrame(new_rows)])\n",
    "df = df[df['repetition'].isin([4, 7, 10])]\n",
    "# calculate bci utility\n",
    "def cal_util(p, n_seq, N=36, c1=12*0.25/60, c2=0):\n",
    "    c = c1*n_seq+c2\n",
    "    util = (2*p-1)*np.log2(N-1)/c\n",
    "    return(util * (util > 0))\n",
    "df['utli'] = cal_util(df['acc'], df['repetition'])"
   ]
  },
  {
   "cell_type": "code",
   "execution_count": 3,
   "metadata": {},
   "outputs": [
    {
     "data": {
      "text/html": [
       "<div>\n",
       "<style scoped>\n",
       "    .dataframe tbody tr th:only-of-type {\n",
       "        vertical-align: middle;\n",
       "    }\n",
       "\n",
       "    .dataframe tbody tr th {\n",
       "        vertical-align: top;\n",
       "    }\n",
       "\n",
       "    .dataframe thead tr th {\n",
       "        text-align: left;\n",
       "    }\n",
       "</style>\n",
       "<table border=\"1\" class=\"dataframe\">\n",
       "  <thead>\n",
       "    <tr>\n",
       "      <th></th>\n",
       "      <th>repetition</th>\n",
       "      <th colspan=\"2\" halign=\"left\">acc</th>\n",
       "      <th colspan=\"2\" halign=\"left\">utli</th>\n",
       "    </tr>\n",
       "    <tr>\n",
       "      <th></th>\n",
       "      <th></th>\n",
       "      <th>mean</th>\n",
       "      <th>std</th>\n",
       "      <th>mean</th>\n",
       "      <th>std</th>\n",
       "    </tr>\n",
       "  </thead>\n",
       "  <tbody>\n",
       "    <tr>\n",
       "      <th>0</th>\n",
       "      <td>4</td>\n",
       "      <td>0.638393</td>\n",
       "      <td>0.207756</td>\n",
       "      <td>8.472476</td>\n",
       "      <td>8.971037</td>\n",
       "    </tr>\n",
       "    <tr>\n",
       "      <th>1</th>\n",
       "      <td>7</td>\n",
       "      <td>0.772321</td>\n",
       "      <td>0.176970</td>\n",
       "      <td>7.981792</td>\n",
       "      <td>5.187020</td>\n",
       "    </tr>\n",
       "    <tr>\n",
       "      <th>2</th>\n",
       "      <td>10</td>\n",
       "      <td>0.852679</td>\n",
       "      <td>0.130090</td>\n",
       "      <td>7.235953</td>\n",
       "      <td>2.669064</td>\n",
       "    </tr>\n",
       "  </tbody>\n",
       "</table>\n",
       "</div>"
      ],
      "text/plain": [
       "  repetition       acc                utli          \n",
       "                  mean       std      mean       std\n",
       "0          4  0.638393  0.207756  8.472476  8.971037\n",
       "1          7  0.772321  0.176970  7.981792  5.187020\n",
       "2         10  0.852679  0.130090  7.235953  2.669064"
      ]
     },
     "execution_count": 3,
     "metadata": {},
     "output_type": "execute_result"
    }
   ],
   "source": [
    "df.groupby(['repetition']).agg({\n",
    "    'acc': ['mean', 'std'],\n",
    "    'utli': ['mean', 'std']\n",
    "}).reset_index()"
   ]
  }
 ],
 "metadata": {
  "kernelspec": {
   "display_name": "glass",
   "language": "python",
   "name": "python3"
  },
  "language_info": {
   "codemirror_mode": {
    "name": "ipython",
    "version": 3
   },
   "file_extension": ".py",
   "mimetype": "text/x-python",
   "name": "python",
   "nbconvert_exporter": "python",
   "pygments_lexer": "ipython3",
   "version": "3.9.18"
  }
 },
 "nbformat": 4,
 "nbformat_minor": 2
}
